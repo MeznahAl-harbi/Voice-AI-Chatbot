{
 "cells": [
  {
   "cell_type": "markdown",
   "id": "12e55afa",
   "metadata": {},
   "source": [
    "# 🎙️ Voice Chatbot using Whisper + Cohere"
   ]
  },
  {
   "cell_type": "markdown",
   "id": "b14cf338",
   "metadata": {},
   "source": [
    "### Install Required Packages"
   ]
  },
  {
   "cell_type": "code",
   "execution_count": null,
   "id": "32b676de",
   "metadata": {},
   "outputs": [],
   "source": [
    "# Install all necessary libraries (run only once)\n",
    "# !pip install -r requirements.txt   # ← تأكد أنك شغلتها مرة على بيئتك فقط"
   ]
  },
  {
   "cell_type": "markdown",
   "id": "b4957f4a",
   "metadata": {},
   "source": [
    "### Import Libraries and Set API Key"
   ]
  },
  {
   "cell_type": "code",
   "execution_count": null,
   "id": "7b203251",
   "metadata": {},
   "outputs": [],
   "source": [
    "import tkinter as tk\n",
    "import sounddevice as sd\n",
    "from scipy.io.wavfile import write\n",
    "import whisper\n",
    "import cohere\n",
    "from gtts import gTTS\n",
    "from playsound import playsound\n",
    "import os\n",
    "\n",
    "\n",
    "# --------- Initialize Cohere Client ---------\n",
    "co = cohere.Client(\"YOUR_API_KEY\")  # Replace with your actual Cohere API Key"
   ]
  },
  {
   "cell_type": "markdown",
   "id": "f16072c7",
   "metadata": {},
   "source": [
    "### Load Whisper Model"
   ]
  },
  {
   "cell_type": "code",
   "execution_count": 2,
   "id": "e8e53f11",
   "metadata": {},
   "outputs": [],
   "source": [
    "# Load Whisper speech-to-text model (base size)\n",
    "whisper_model = whisper.load_model(\"base\")\n"
   ]
  },
  {
   "cell_type": "markdown",
   "id": "d37182fa",
   "metadata": {},
   "source": [
    "###  Define Voice-to-Response Function"
   ]
  },
  {
   "cell_type": "code",
   "execution_count": 3,
   "id": "c7d23a06",
   "metadata": {},
   "outputs": [],
   "source": [
    "def record_and_process():\n",
    "    # Update status to indicate recording is in progress\n",
    "    status_label.config(text=\"🎙️ Recording...\") \n",
    "    window.update()\n",
    "\n",
    "    # Record audio from the microphone for 5 seconds\n",
    "    duration = 5  \n",
    "    fs = 44100  # Sampling rate\n",
    "    recording = sd.rec(int(duration * fs), samplerate=fs, channels=2)\n",
    "    sd.wait()  # Wait until recording is finished\n",
    "\n",
    "    # Save the recording to a WAV file\n",
    "    audio_path = \"recorded.wav\"\n",
    "    write(audio_path, fs, recording)\n",
    "\n",
    "    # Update status to indicate transcription is in progress\n",
    "    status_label.config(text=\"📝 Transcribing...\")\n",
    "    window.update()\n",
    "\n",
    "    # Use Whisper to transcribe the audio\n",
    "    result = whisper_model.transcribe(audio_path)\n",
    "    transcribed_text = result[\"text\"]\n",
    "    transcribed_label.config(text=f\"You said: {transcribed_text}\")\n",
    "\n",
    "    # Update status to indicate response generation is in progress\n",
    "    status_label.config(text=\"⏳ Generating response...\")\n",
    "    window.update()\n",
    "\n",
    "    # Send transcribed text to Cohere to generate a response\n",
    "    response = co.chat(\n",
    "        model=\"command-r\",\n",
    "        message=transcribed_text\n",
    "    )\n",
    "    response_text = response.text\n",
    "    response_label.config(text=f\"🤖 {response_text}\")\n",
    "\n",
    "    # Update status to indicate text-to-speech is in progress\n",
    "    status_label.config(text=\"🔊 Playing response...\")\n",
    "    window.update()\n",
    "\n",
    "    # Convert the response to speech and play it\n",
    "    tts = gTTS(text=response_text, lang='en')\n",
    "    output_path = \"response.mp3\"\n",
    "    tts.save(output_path)\n",
    "    playsound(output_path)\n",
    "\n",
    "    # Clean up temporary audio files\n",
    "    os.remove(audio_path)\n",
    "    os.remove(output_path)\n",
    "\n",
    "    # Update status to indicate the app is ready again\n",
    "    status_label.config(text=\"✅ Ready to record again.\")\n"
   ]
  },
  {
   "cell_type": "markdown",
   "id": "716f986b",
   "metadata": {},
   "source": [
    "### Create and Run GUI"
   ]
  },
  {
   "cell_type": "code",
   "execution_count": 5,
   "id": "51a02c31",
   "metadata": {},
   "outputs": [
    {
     "name": "stderr",
     "output_type": "stream",
     "text": [
      "C:\\Users\\iphon\\AppData\\Roaming\\Python\\Python310\\site-packages\\whisper\\transcribe.py:132: UserWarning: FP16 is not supported on CPU; using FP32 instead\n",
      "  warnings.warn(\"FP16 is not supported on CPU; using FP32 instead\")\n"
     ]
    }
   ],
   "source": [
    "# --------- GUI Interface ---------\n",
    "window = tk.Tk()\n",
    "window.title(\"🤖 Voice Chatbot \")\n",
    "window.geometry(\"500x350\")  # Bigger window\n",
    "\n",
    "# Record button - blue background, white text\n",
    "record_btn = tk.Button(window, text=\"🎙️ Start Recording\", font=(\"Arial\", 16, \"bold\"),\n",
    "                       bg=\"#89AFD7\", fg=\"white\", activebackground=\"#5d95d1\", activeforeground=\"white\",\n",
    "                       command=record_and_process)\n",
    "record_btn.pack(pady=(20, 10), ipadx=10, ipady=5)\n",
    "\n",
    "# Label to show transcribed text (user speech)\n",
    "transcribed_label = tk.Label(window, text=\"\", font=(\"Arial\", 14), fg=\"#0D0D0D\", wraplength=460, justify=\"left\")\n",
    "transcribed_label.pack(pady=(0, 10))\n",
    "\n",
    "# Label to show chatbot response text with emoji\n",
    "response_label = tk.Label(window, text=\"\", font=(\"Arial\", 14, \"italic\"), fg=\"#007BFF\", wraplength=460, justify=\"left\")\n",
    "response_label.pack(pady=(0, 30))\n",
    "\n",
    "# Status label to show current processing status (small font, grey)\n",
    "status_label = tk.Label(window, text=\"Ready to record.\", font=(\"Arial\", 10), fg=\"gray\")\n",
    "status_label.pack()\n",
    "\n",
    "# Quit button - red background, white text\n",
    "quit_btn = tk.Button(window, text=\"❌ Quit\", font=(\"Arial\", 14, \"bold\"),\n",
    "                     bg=\"#d25662\", fg=\"white\", activebackground=\"#81373e\", activeforeground=\"white\",\n",
    "                     command=window.destroy)\n",
    "quit_btn.pack(side=\"bottom\", pady=15, ipadx=10, ipady=5)\n",
    "\n",
    "window.mainloop()"
   ]
  }
 ],
 "metadata": {
  "kernelspec": {
   "display_name": "voicebot_env",
   "language": "python",
   "name": "python3"
  },
  "language_info": {
   "codemirror_mode": {
    "name": "ipython",
    "version": 3
   },
   "file_extension": ".py",
   "mimetype": "text/x-python",
   "name": "python",
   "nbconvert_exporter": "python",
   "pygments_lexer": "ipython3",
   "version": "3.10.18"
  }
 },
 "nbformat": 4,
 "nbformat_minor": 5
}
